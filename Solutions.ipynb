{
 "cells": [
  {
   "cell_type": "code",
   "execution_count": 1,
   "id": "f15178dc",
   "metadata": {},
   "outputs": [],
   "source": [
    "from sqlalchemy import MetaData, Table, create_engine, select, and_, or_, not_, text, desc, union, union_all, asc\n",
    "from sqlalchemy.sql import func, exists, text, distinct\n",
    "import pandas as pd\n",
    "import os"
   ]
  },
  {
   "cell_type": "code",
   "execution_count": 6,
   "id": "b549e89d",
   "metadata": {},
   "outputs": [],
   "source": [
    "engine = create_engine('sqlite+pysqlite:///Pilots_db.sqlite')\n",
    "conn=engine.connect()"
   ]
  },
  {
   "cell_type": "markdown",
   "id": "3e32af56",
   "metadata": {},
   "source": [
    "Задача 1. Напишите запрос, который выведет пилотов, которые в качестве второго пилота в\n",
    "августе этого года трижды ездили в аэропорт Шереметьево. "
   ]
  },
  {
   "cell_type": "code",
   "execution_count": 7,
   "id": "6314418c",
   "metadata": {},
   "outputs": [
    {
     "name": "stdout",
     "output_type": "stream",
     "text": [
      "   pilot_id      name  age  rank  education_level\n",
      "0        30  Аристарх   40     1               16\n"
     ]
    }
   ],
   "source": [
    "sql = '''\n",
    "with subq AS(\n",
    "    SELECT second_pilot_id \n",
    "    FROM Flight \n",
    "    WHERE destination ='Шереметьево' AND flight_dt like '%.08.2021' \n",
    "    GROUP BY second_pilot_id \n",
    "    HAVING COUNT(flight_id) = 3\n",
    ")\n",
    "SELECT *\n",
    "FROM Pilot \n",
    "where pilot_id in subq \n",
    "'''\n",
    "\n",
    "df = pd.read_sql(sql, conn)\n",
    "print(df)"
   ]
  },
  {
   "cell_type": "markdown",
   "id": "7d390b2a",
   "metadata": {},
   "source": [
    "Задача 2. Выведите пилотов старше 45 лет, совершали полеты на самолетах с количеством\n",
    "пассажиров больше 30."
   ]
  },
  {
   "cell_type": "code",
   "execution_count": 8,
   "id": "b6560ad0",
   "metadata": {},
   "outputs": [
    {
     "name": "stdout",
     "output_type": "stream",
     "text": [
      "    pilot_id               name  age  rank  education_level\n",
      "0          3               Аваз   52     2                3\n",
      "1         11             Азарий   48     5                4\n",
      "2         12               Аким   46     7                5\n",
      "3         18             Амадей   53     3               15\n",
      "4         20              Амаяк   51     5               16\n",
      "5         26              Антон   48     3               17\n",
      "6         45                Бег   50     1               15\n",
      "7         54              Борис   48     4               19\n",
      "8         27  Ануфрий (Онуфрий)   51     4                3\n",
      "9         34               Арон   54     7               19\n",
      "10        44                  Б   48     1               20\n",
      "11        46      Бежен (Бажен)   46     4                8\n"
     ]
    }
   ],
   "source": [
    "sql = '''\n",
    "WITH subq_civil_planes AS(\n",
    "    SELECT plane_id \n",
    "    FROM Plane \n",
    "    WHERE cargo_flg=0\n",
    "),\n",
    "subq2 AS (\n",
    "    SELECT first_pilot_id\n",
    "    FROM Flight \n",
    "    WHERE plane_id IN subq_civil_planes\n",
    "    AND quantity > 30\n",
    "),\n",
    "subq3 AS (\n",
    "    SELECT second_pilot_id\n",
    "    FROM Flight \n",
    "    WHERE plane_id IN subq_civil_planes\n",
    "    AND quantity > 30\n",
    ")\n",
    "\n",
    "SELECT *\n",
    "FROM Pilot\n",
    "WHERE (pilot_id IN subq2 OR pilot_id IN subq3)\n",
    "AND age > 45\n",
    "'''\n",
    "df = pd.read_sql(sql, conn)\n",
    "print(df)"
   ]
  },
  {
   "cell_type": "markdown",
   "id": "c3cd44b9",
   "metadata": {},
   "source": [
    "Задача 3. Выведите ТОП 10 пилотов-капитанов (first_pilot_id), которые совершили наибольшее\n",
    "число грузовых перелетов в этом году."
   ]
  },
  {
   "cell_type": "code",
   "execution_count": 9,
   "id": "f5c8e332",
   "metadata": {},
   "outputs": [
    {
     "name": "stdout",
     "output_type": "stream",
     "text": [
      "   pilot_id      name  age  rank  education_level  Amount_of_flights\n",
      "0        20     Амаяк   51     5               16                  3\n",
      "1        59         В   35     6               14                  2\n",
      "2        41  Афанасий   52     1                6                  2\n",
      "3        19   Амадеус   37     5               12                  2\n",
      "4        47  Бенедикт   36     2               15                  1\n",
      "5        42     Ахмет   39     4               18                  1\n",
      "6        37   Артемий   50     1               18                  1\n",
      "7        34      Арон   54     7               19                  1\n",
      "8        26     Антон   48     3               17                  1\n",
      "9        24    Андрей   29     2               14                  1\n"
     ]
    }
   ],
   "source": [
    "sql = '''\n",
    "WITH subq_gruz_planes AS(\n",
    "    SELECT plane_id \n",
    "    FROM Plane \n",
    "    WHERE cargo_flg=1\n",
    ")\n",
    "\n",
    "SELECT Pilot.*, count(flight_id) AS \"Amount_of_flights\"\n",
    "FROM Pilot \n",
    "JOIN flight ON pilot.pilot_id = flight.first_pilot_id\n",
    "WHERE plane_id in subq_gruz_planes\n",
    "GROUP BY Pilot.pilot_id\n",
    "ORDER BY Amount_of_flights DESC\n",
    "LIMIT (10)\n",
    "'''\n",
    "df = pd.read_sql(sql, conn)\n",
    "print(df)"
   ]
  }
 ],
 "metadata": {
  "kernelspec": {
   "display_name": "Python 3 (ipykernel)",
   "language": "python",
   "name": "python3"
  },
  "language_info": {
   "codemirror_mode": {
    "name": "ipython",
    "version": 3
   },
   "file_extension": ".py",
   "mimetype": "text/x-python",
   "name": "python",
   "nbconvert_exporter": "python",
   "pygments_lexer": "ipython3",
   "version": "3.9.12"
  }
 },
 "nbformat": 4,
 "nbformat_minor": 5
}
